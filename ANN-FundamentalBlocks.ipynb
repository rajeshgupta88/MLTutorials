{
 "cells": [
  {
   "cell_type": "markdown",
   "metadata": {},
   "source": [
    "### Train a Perceptron\n",
    "Perceptron is a fundamental building block for neural networks. Let us try to\n",
    "train a single perceptron. Consider the data given in the following table. As one\n",
    "can see, it has two attributes x1,x2 and a class label (either 0 or 1).\n",
    "1. Implement the perceptron training rule and get the appropriate parameters for\n",
    "a single perceptron.\n",
    "2. Plot the data points and the obtained decision boundary.\n",
    "3. Also draw the schematic diagram of the trained perceptron with learned\n",
    "weights. You can draw this on paper and attach a photo."
   ]
  },
  {
   "cell_type": "code",
   "execution_count": 10,
   "metadata": {},
   "outputs": [],
   "source": [
    "import pandas as pd\n",
    "import numpy as np\n",
    "from sklearn.linear_model import Perceptron\n",
    "import matplotlib.pyplot as plt"
   ]
  },
  {
   "cell_type": "code",
   "execution_count": 20,
   "metadata": {},
   "outputs": [
    {
     "data": {
      "text/html": [
       "<div>\n",
       "<style scoped>\n",
       "    .dataframe tbody tr th:only-of-type {\n",
       "        vertical-align: middle;\n",
       "    }\n",
       "\n",
       "    .dataframe tbody tr th {\n",
       "        vertical-align: top;\n",
       "    }\n",
       "\n",
       "    .dataframe thead th {\n",
       "        text-align: right;\n",
       "    }\n",
       "</style>\n",
       "<table border=\"1\" class=\"dataframe\">\n",
       "  <thead>\n",
       "    <tr style=\"text-align: right;\">\n",
       "      <th></th>\n",
       "      <th>x1</th>\n",
       "      <th>x2</th>\n",
       "      <th>Class</th>\n",
       "    </tr>\n",
       "  </thead>\n",
       "  <tbody>\n",
       "    <tr>\n",
       "      <th>0</th>\n",
       "      <td>2</td>\n",
       "      <td>3</td>\n",
       "      <td>0</td>\n",
       "    </tr>\n",
       "    <tr>\n",
       "      <th>1</th>\n",
       "      <td>4</td>\n",
       "      <td>5</td>\n",
       "      <td>0</td>\n",
       "    </tr>\n",
       "    <tr>\n",
       "      <th>2</th>\n",
       "      <td>11</td>\n",
       "      <td>11</td>\n",
       "      <td>1</td>\n",
       "    </tr>\n",
       "    <tr>\n",
       "      <th>3</th>\n",
       "      <td>4</td>\n",
       "      <td>11</td>\n",
       "      <td>1</td>\n",
       "    </tr>\n",
       "    <tr>\n",
       "      <th>4</th>\n",
       "      <td>12</td>\n",
       "      <td>5</td>\n",
       "      <td>0</td>\n",
       "    </tr>\n",
       "  </tbody>\n",
       "</table>\n",
       "</div>"
      ],
      "text/plain": [
       "   x1  x2  Class\n",
       "0   2   3      0\n",
       "1   4   5      0\n",
       "2  11  11      1\n",
       "3   4  11      1\n",
       "4  12   5      0"
      ]
     },
     "execution_count": 20,
     "metadata": {},
     "output_type": "execute_result"
    }
   ],
   "source": [
    "data = pd.read_csv('data.csv')\n",
    "data.head()"
   ]
  },
  {
   "cell_type": "code",
   "execution_count": 21,
   "metadata": {},
   "outputs": [
    {
     "data": {
      "text/plain": [
       "x1       int64\n",
       "x2       int64\n",
       "Class    int64\n",
       "dtype: object"
      ]
     },
     "execution_count": 21,
     "metadata": {},
     "output_type": "execute_result"
    }
   ],
   "source": [
    "data.dtypes"
   ]
  },
  {
   "cell_type": "code",
   "execution_count": 31,
   "metadata": {},
   "outputs": [
    {
     "data": {
      "image/png": "[encoded data removed]",
      "text/plain": [
       "<Figure size 432x288 with 1 Axes>"
      ]
     },
     "metadata": {
      "needs_background": "light"
     },
     "output_type": "display_data"
    }
   ],
   "source": [
    "# Get data and plot the points\n",
    "X = data.iloc[:, :2].values\n",
    "y = data.iloc[:, -1].values\n",
    "\n",
    "x1 = X[:, 0]\n",
    "x2 = X[:, 1]\n",
    "color = ['black' if value == 1 else 'blue' for value in y]\n",
    "plt.scatter(x1, x2, marker='o', color=color)\n",
    "plt.xlabel('X1 input feature')\n",
    "plt.ylabel('X2 input feature')\n",
    "plt.title('Perceptron regression for X1, X2')\n",
    "plt.show()"
   ]
  },
  {
   "cell_type": "code",
   "execution_count": 32,
   "metadata": {},
   "outputs": [],
   "source": [
    "clf = Perceptron().fit(X, y)"
   ]
  },
  {
   "cell_type": "code",
   "execution_count": 40,
   "metadata": {},
   "outputs": [
    {
     "data": {
      "text/plain": [
       "0.8125"
      ]
     },
     "execution_count": 40,
     "metadata": {},
     "output_type": "execute_result"
    }
   ],
   "source": [
    "clf.score(X, y)"
   ]
  },
  {
   "cell_type": "code",
   "execution_count": 51,
   "metadata": {},
   "outputs": [
    {
     "name": "stdout",
     "output_type": "stream",
     "text": [
      "[-20.] [20.]\n"
     ]
    }
   ],
   "source": [
    "b = clf.intercept_[0]\n",
    "w1, w2 = clf.coef_.T\n",
    "print (w1,w2)"
   ]
  },
  {
   "cell_type": "code",
   "execution_count": 48,
   "metadata": {},
   "outputs": [
    {
     "data": {
      "text/plain": [
       "Text(0.5, 1.0, 'Perceptron')"
      ]
     },
     "execution_count": 48,
     "metadata": {},
     "output_type": "execute_result"
    },
    {
     "data": {
      "image/png": "[encoded data removed]",
      "text/plain": [
       "<Figure size 432x288 with 1 Axes>"
      ]
     },
     "metadata": {
      "needs_background": "light"
     },
     "output_type": "display_data"
    }
   ],
   "source": [
    "# create a mesh to plot in\n",
    "x_min, x_max = X[:, 0].min() - 1, X[:, 0].max() + 1\n",
    "y_min, y_max = X[:, 1].min() - 1, X[:, 1].max() + 1\n",
    "xx, yy = np.meshgrid(np.arange(x_min, x_max, h),\n",
    "                     np.arange(y_min, y_max, h))\n",
    "\n",
    "fig, ax = plt.subplots()\n",
    "Z = clf.predict(np.c_[xx.ravel(), yy.ravel()])\n",
    "\n",
    "# Put the result into a color plot\n",
    "Z = Z.reshape(xx.shape)\n",
    "ax.contourf(xx, yy, Z, cmap=plt.cm.Paired)\n",
    "ax.axis()\n",
    "\n",
    "\n",
    "# Plot also the training points\n",
    "ax.scatter(X[:, 0], X[:, 1], c=y, cmap=plt.cm.Paired)\n",
    "\n",
    "ax.set_title('Perceptron')"
   ]
  },
  {
   "cell_type": "code",
   "execution_count": 52,
   "metadata": {},
   "outputs": [],
   "source": [
    "# Photo attached with this notebook for schematic diagram"
   ]
  },
  {
   "cell_type": "markdown",
   "metadata": {},
   "source": [
    "### Train a Neural Network\n",
    "Let us design a neural network to classify flowers from Iris dataset (Link for Iris dataset: ​ https://archive.ics.uci.edu/ml/datasets/iris)\n",
    "1. Implement a single hidden layer MLP. Final output layer will have 3 neurons,\n",
    "one for each result. Arch: [Input, hidden, output]\n",
    "2. Now use an NN with two hidden layers. The first hidden layer has 9 neurons.\n",
    "The second hidden layer has 3 neurons. Arch: [Input,hidden1,hidden2,output]\n",
    "\n",
    "(i) Use keras to design the NN model and train on the iris data.\n",
    "\n",
    "(ii) Draw the schematic diagram of the NN 2 along with all the weights and\n",
    "specify suitable activation function. How many trainable parameters are there?"
   ]
  },
  {
   "cell_type": "code",
   "execution_count": 1,
   "metadata": {},
   "outputs": [
    {
     "name": "stdout",
     "output_type": "stream",
     "text": [
      "Example data: \n",
      "[[5.1 3.5 1.4 0.2]\n",
      " [4.9 3.  1.4 0.2]\n",
      " [4.7 3.2 1.3 0.2]\n",
      " [4.6 3.1 1.5 0.2]\n",
      " [5.  3.6 1.4 0.2]]\n",
      "Example labels: \n",
      "[0 0 0 0 0]\n"
     ]
    }
   ],
   "source": [
    "## Data load and pre-process\n",
    "\n",
    "from sklearn.datasets import load_iris\n",
    "from sklearn.preprocessing import OneHotEncoder\n",
    "\n",
    "iris_data = load_iris() # load the iris dataset\n",
    "\n",
    "print('Example data: ')\n",
    "print(iris_data.data[:5])\n",
    "print('Example labels: ')\n",
    "print(iris_data.target[:5])\n",
    "\n",
    "x = iris_data.data\n",
    "y_ = iris_data.target.reshape(-1, 1) # Convert data to a single column\n",
    "\n",
    "# One Hot encode the class labels\n",
    "encoder = OneHotEncoder(sparse=False)\n",
    "y = encoder.fit_transform(y_)\n",
    "#print(y)\n"
   ]
  },
  {
   "cell_type": "code",
   "execution_count": 2,
   "metadata": {},
   "outputs": [],
   "source": [
    "# Split the data for training and testing\n",
    "from sklearn.model_selection import train_test_split\n",
    "train_x, test_x, train_y, test_y = train_test_split(x, y, test_size=0.20)"
   ]
  },
  {
   "cell_type": "code",
   "execution_count": 17,
   "metadata": {},
   "outputs": [
    {
     "name": "stdout",
     "output_type": "stream",
     "text": [
      "Neural Network Model Summary: \n",
      "Model: \"sequential_7\"\n",
      "_________________________________________________________________\n",
      "Layer (type)                 Output Shape              Param #   \n",
      "=================================================================\n",
      "output (Dense)               (None, 3)                 15        \n",
      "=================================================================\n",
      "Total params: 15\n",
      "Trainable params: 15\n",
      "Non-trainable params: 0\n",
      "_________________________________________________________________\n",
      "None\n",
      "Epoch 1/20\n",
      "60/60 - 0s - loss: 7.0652 - accuracy: 0.3417\n",
      "Epoch 2/20\n",
      "60/60 - 0s - loss: 6.0258 - accuracy: 0.3417\n",
      "Epoch 3/20\n",
      "60/60 - 0s - loss: 4.9883 - accuracy: 0.3417\n",
      "Epoch 4/20\n",
      "60/60 - 0s - loss: 3.9598 - accuracy: 0.3417\n",
      "Epoch 5/20\n",
      "60/60 - 0s - loss: 2.9900 - accuracy: 0.3417\n",
      "Epoch 6/20\n",
      "60/60 - 0s - loss: 2.1720 - accuracy: 0.3417\n",
      "Epoch 7/20\n",
      "60/60 - 0s - loss: 1.6166 - accuracy: 0.3500\n",
      "Epoch 8/20\n",
      "60/60 - 0s - loss: 1.2714 - accuracy: 0.3750\n",
      "Epoch 9/20\n",
      "60/60 - 0s - loss: 1.0511 - accuracy: 0.4083\n",
      "Epoch 10/20\n",
      "60/60 - 0s - loss: 0.9341 - accuracy: 0.4500\n",
      "Epoch 11/20\n",
      "60/60 - 0s - loss: 0.8766 - accuracy: 0.5833\n",
      "Epoch 12/20\n",
      "60/60 - 0s - loss: 0.8403 - accuracy: 0.6333\n",
      "Epoch 13/20\n",
      "60/60 - 0s - loss: 0.8245 - accuracy: 0.6417\n",
      "Epoch 14/20\n",
      "60/60 - 0s - loss: 0.8109 - accuracy: 0.6500\n",
      "Epoch 15/20\n",
      "60/60 - 0s - loss: 0.8016 - accuracy: 0.7083\n",
      "Epoch 16/20\n",
      "60/60 - 0s - loss: 0.7893 - accuracy: 0.6500\n",
      "Epoch 17/20\n",
      "60/60 - 0s - loss: 0.7814 - accuracy: 0.6917\n",
      "Epoch 18/20\n",
      "60/60 - 0s - loss: 0.7694 - accuracy: 0.6917\n",
      "Epoch 19/20\n",
      "60/60 - 0s - loss: 0.7593 - accuracy: 0.6750\n",
      "Epoch 20/20\n",
      "60/60 - 0s - loss: 0.7490 - accuracy: 0.7083\n",
      "WARNING:tensorflow:7 out of the last 8 calls to <function Model.make_test_function.<locals>.test_function at 0x7fe63071f710> triggered tf.function retracing. Tracing is expensive and the excessive number of tracings could be due to (1) creating @tf.function repeatedly in a loop, (2) passing tensors with different shapes, (3) passing Python objects instead of tensors. For (1), please define your @tf.function outside of the loop. For (2), @tf.function has experimental_relax_shapes=True option that relaxes argument shapes that can avoid unnecessary retracing. For (3), please refer to https://www.tensorflow.org/tutorials/customization/performance#python_or_tensor_args and https://www.tensorflow.org/api_docs/python/tf/function for  more details.\n",
      "1/1 [==============================] - 0s 841us/step - loss: 0.6979 - accuracy: 0.7667\n",
      "Final test set loss: 0.697927\n",
      "Final test set accuracy: 0.766667\n"
     ]
    }
   ],
   "source": [
    "# Build the model ( single hidden layer MLP) \n",
    "\n",
    "model = Sequential()\n",
    "\n",
    "#model.add(Dense(10, input_shape=(4,), activation='relu', name='fc1'))\n",
    "#model.add(Dense(9, activation='relu', name='fc2'))\n",
    "model.add(Dense(3, input_shape=(4,),activation='softmax', name='output'))\n",
    "\n",
    "# Adam optimizer with learning rate of 0.001\n",
    "optimizer = Adam(lr=0.001)\n",
    "model.compile(optimizer, loss='categorical_crossentropy', metrics=['accuracy'])\n",
    "\n",
    "print('Neural Network Model Summary: ')\n",
    "print(model.summary())\n",
    "\n",
    "# Train the model\n",
    "model.fit(train_x, train_y, verbose=2, batch_size=2, epochs=20)\n",
    "\n",
    "# Test on unseen data\n",
    "\n",
    "results = model.evaluate(test_x, test_y)\n",
    "\n",
    "print('Final test set loss: {:4f}'.format(results[0]))\n",
    "print('Final test set accuracy: {:4f}'.format(results[1]))"
   ]
  },
  {
   "cell_type": "code",
   "execution_count": 18,
   "metadata": {},
   "outputs": [
    {
     "name": "stdout",
     "output_type": "stream",
     "text": [
      "Neural Network Model Summary: \n",
      "Model: \"sequential_8\"\n",
      "_________________________________________________________________\n",
      "Layer (type)                 Output Shape              Param #   \n",
      "=================================================================\n",
      "fc1 (Dense)                  (None, 9)                 45        \n",
      "_________________________________________________________________\n",
      "output (Dense)               (None, 3)                 30        \n",
      "=================================================================\n",
      "Total params: 75\n",
      "Trainable params: 75\n",
      "Non-trainable params: 0\n",
      "_________________________________________________________________\n",
      "None\n",
      "Epoch 1/20\n",
      "60/60 - 0s - loss: 3.5875 - accuracy: 0.3417\n",
      "Epoch 2/20\n",
      "60/60 - 0s - loss: 1.8518 - accuracy: 0.3250\n",
      "Epoch 3/20\n",
      "60/60 - 0s - loss: 1.4119 - accuracy: 0.1167\n",
      "Epoch 4/20\n",
      "60/60 - 0s - loss: 1.2050 - accuracy: 0.2500\n",
      "Epoch 5/20\n",
      "60/60 - 0s - loss: 1.0405 - accuracy: 0.5250\n",
      "Epoch 6/20\n",
      "60/60 - 0s - loss: 0.9287 - accuracy: 0.5417\n",
      "Epoch 7/20\n",
      "60/60 - 0s - loss: 0.8486 - accuracy: 0.5917\n",
      "Epoch 8/20\n",
      "60/60 - 0s - loss: 0.7901 - accuracy: 0.5583\n",
      "Epoch 9/20\n",
      "60/60 - 0s - loss: 0.7230 - accuracy: 0.6167\n",
      "Epoch 10/20\n",
      "60/60 - 0s - loss: 0.6893 - accuracy: 0.6583\n",
      "Epoch 11/20\n",
      "60/60 - 0s - loss: 0.6496 - accuracy: 0.6583\n",
      "Epoch 12/20\n",
      "60/60 - 0s - loss: 0.6170 - accuracy: 0.6667\n",
      "Epoch 13/20\n",
      "60/60 - 0s - loss: 0.5903 - accuracy: 0.6583\n",
      "Epoch 14/20\n",
      "60/60 - 0s - loss: 0.5683 - accuracy: 0.6917\n",
      "Epoch 15/20\n",
      "60/60 - 0s - loss: 0.5515 - accuracy: 0.7333\n",
      "Epoch 16/20\n",
      "60/60 - 0s - loss: 0.5270 - accuracy: 0.7250\n",
      "Epoch 17/20\n",
      "60/60 - 0s - loss: 0.5095 - accuracy: 0.7583\n",
      "Epoch 18/20\n",
      "60/60 - 0s - loss: 0.4855 - accuracy: 0.8167\n",
      "Epoch 19/20\n",
      "60/60 - 0s - loss: 0.4737 - accuracy: 0.8167\n",
      "Epoch 20/20\n",
      "60/60 - 0s - loss: 0.4586 - accuracy: 0.8750\n",
      "WARNING:tensorflow:8 out of the last 9 calls to <function Model.make_test_function.<locals>.test_function at 0x7fe6307554d0> triggered tf.function retracing. Tracing is expensive and the excessive number of tracings could be due to (1) creating @tf.function repeatedly in a loop, (2) passing tensors with different shapes, (3) passing Python objects instead of tensors. For (1), please define your @tf.function outside of the loop. For (2), @tf.function has experimental_relax_shapes=True option that relaxes argument shapes that can avoid unnecessary retracing. For (3), please refer to https://www.tensorflow.org/tutorials/customization/performance#python_or_tensor_args and https://www.tensorflow.org/api_docs/python/tf/function for  more details.\n",
      "1/1 [==============================] - 0s 891us/step - loss: 0.4141 - accuracy: 0.8667\n",
      "Final test set loss: 0.414079\n",
      "Final test set accuracy: 0.866667\n"
     ]
    }
   ],
   "source": [
    "\n",
    "# Build the model with two hidden layers. \n",
    "\n",
    "model = Sequential()\n",
    "\n",
    "model.add(Dense(9, input_shape=(4,), activation='relu', name='fc1'))\n",
    "model.add(Dense(3, activation='softmax', name='output'))\n",
    "\n",
    "# Adam optimizer with learning rate of 0.001\n",
    "optimizer = Adam(lr=0.001)\n",
    "model.compile(optimizer, loss='categorical_crossentropy', metrics=['accuracy'])\n",
    "\n",
    "print('Neural Network Model Summary: ')\n",
    "print(model.summary())\n",
    "\n",
    "# Train the model\n",
    "model.fit(train_x, train_y, verbose=2, batch_size=2, epochs=20)\n",
    "\n",
    "# Test on unseen data\n",
    "\n",
    "results = model.evaluate(test_x, test_y)\n",
    "\n",
    "print('Final test set loss: {:4f}'.format(results[0]))\n",
    "print('Final test set accuracy: {:4f}'.format(results[1]))"
   ]
  },
  {
   "cell_type": "code",
   "execution_count": 19,
   "metadata": {},
   "outputs": [
    {
     "name": "stdout",
     "output_type": "stream",
     "text": [
      "(4, 9)\n",
      "(9,)\n",
      "(9, 3)\n",
      "(3,)\n"
     ]
    }
   ],
   "source": [
    "weights = model.get_weights()\n",
    "for i in range(len(weights)):\n",
    "    print(weights[i].shape)"
   ]
  },
  {
   "cell_type": "code",
   "execution_count": 20,
   "metadata": {},
   "outputs": [
    {
     "data": {
      "text/plain": [
       "4"
      ]
     },
     "execution_count": 20,
     "metadata": {},
     "output_type": "execute_result"
    }
   ],
   "source": [
    "len(model.get_weights())"
   ]
  },
  {
   "cell_type": "code",
   "execution_count": 24,
   "metadata": {},
   "outputs": [
    {
     "name": "stdout",
     "output_type": "stream",
     "text": [
      "[[ 0.11598071  0.6308341   0.6033052  -0.5056364  -0.27139378  0.45608965\n",
      "   0.18231457  0.28815153  0.6479473 ]\n",
      " [-0.00286548  0.12554075  0.0157338   0.4472836  -0.08942884  0.48967797\n",
      "  -0.05398593  0.53298604  0.52246153]\n",
      " [ 0.5236013  -0.01691722 -0.15636756  0.3624686  -0.44249535 -0.57502955\n",
      "   0.44103804 -0.61099064 -0.11059084]\n",
      " [ 0.80624676 -0.02275073  0.4349526  -0.10543579  0.41687107 -0.2260049\n",
      "   0.04648969  0.15572752 -0.68894017]]\n"
     ]
    }
   ],
   "source": [
    "print(model.get_weights()[0])"
   ]
  },
  {
   "cell_type": "code",
   "execution_count": 28,
   "metadata": {},
   "outputs": [
    {
     "name": "stdout",
     "output_type": "stream",
     "text": [
      "[-0.15574995 -0.09200142 -0.16061817 -0.05680266  0.          0.19653307\n",
      " -0.0588697   0.02614018  0.19273503]\n"
     ]
    }
   ],
   "source": [
    "print(model.get_weights()[1])"
   ]
  },
  {
   "cell_type": "code",
   "execution_count": 26,
   "metadata": {},
   "outputs": [
    {
     "name": "stdout",
     "output_type": "stream",
     "text": [
      "[[-0.5075126   0.22708473  0.0979103 ]\n",
      " [-0.3232685  -0.24628437  0.59007823]\n",
      " [-0.39355066  0.0098973   0.5403588 ]\n",
      " [ 0.06526388  0.15242624 -0.316979  ]\n",
      " [ 0.44222027 -0.24354658  0.18516141]\n",
      " [ 0.66493696 -0.1146087  -0.43957543]\n",
      " [-0.09499843  0.6183616  -0.09033401]\n",
      " [-0.17274274  0.39562413 -1.1555326 ]\n",
      " [ 0.82465506 -0.02871133 -0.2290144 ]]\n"
     ]
    }
   ],
   "source": [
    "print(model.get_weights()[2])"
   ]
  },
  {
   "cell_type": "code",
   "execution_count": 29,
   "metadata": {},
   "outputs": [
    {
     "name": "stdout",
     "output_type": "stream",
     "text": [
      "[ 0.18319473 -0.08031658 -0.05731972]\n"
     ]
    }
   ],
   "source": [
    "    print(model.get_weights()[3])"
   ]
  },
  {
   "cell_type": "code",
   "execution_count": null,
   "metadata": {},
   "outputs": [],
   "source": []
  }
 ],
 "metadata": {
  "kernelspec": {
   "display_name": "Python 3",
   "language": "python",
   "name": "python3"
  },
  "language_info": {
   "codemirror_mode": {
    "name": "ipython",
    "version": 3
   },
   "file_extension": ".py",
   "mimetype": "text/x-python",
   "name": "python",
   "nbconvert_exporter": "python",
   "pygments_lexer": "ipython3",
   "version": "3.7.9"
  }
 },
 "nbformat": 4,
 "nbformat_minor": 4
}
